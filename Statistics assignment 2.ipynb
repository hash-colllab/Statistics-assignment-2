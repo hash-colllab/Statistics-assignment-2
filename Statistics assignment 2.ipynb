{
 "cells": [
  {
   "cell_type": "markdown",
   "id": "d2aabcde-f80e-418d-b794-5d9a93bb8db8",
   "metadata": {},
   "source": [
    "Answer 1:-"
   ]
  },
  {
   "cell_type": "markdown",
   "id": "27fb0633-2cd6-4c16-a562-0eac9fc9e91d",
   "metadata": {},
   "source": [
    "Three central measure of tendency are MEAN, MEDIAN and MODE."
   ]
  },
  {
   "cell_type": "markdown",
   "id": "4679242b-0d44-48cc-a486-a61ed286cbfd",
   "metadata": {},
   "source": [
    "Answer 2:-"
   ]
  },
  {
   "cell_type": "markdown",
   "id": "cda30a73-1c1b-4af8-86f0-74355127785b",
   "metadata": {},
   "source": [
    "The difference between mean, median and mode are: Mean is the average value of the given observations Median is the middle value of the given observations Mode is the most repeated value in the given observation"
   ]
  },
  {
   "cell_type": "markdown",
   "id": "2831dd06-cb0a-431e-ae07-5205a03f30e6",
   "metadata": {},
   "source": [
    "Answer 3:-"
   ]
  },
  {
   "cell_type": "code",
   "execution_count": 1,
   "id": "c4ccb5cc-2e91-4a0c-b282-93919407f71a",
   "metadata": {},
   "outputs": [],
   "source": [
    "Height_data = [178,177,176,177,178.2,178,175,179,180,175,178.9,176.2,177,172.5,178,176.5]"
   ]
  },
  {
   "cell_type": "code",
   "execution_count": 2,
   "id": "bd9fbf43-df64-489a-88e1-c0310fb008cc",
   "metadata": {},
   "outputs": [],
   "source": [
    "import numpy as np"
   ]
  },
  {
   "cell_type": "code",
   "execution_count": 3,
   "id": "28125cde-32d5-4966-b068-bef15049309e",
   "metadata": {},
   "outputs": [
    {
     "data": {
      "text/plain": [
       "177.01875"
      ]
     },
     "execution_count": 3,
     "metadata": {},
     "output_type": "execute_result"
    }
   ],
   "source": [
    "np.mean(Height_data)"
   ]
  },
  {
   "cell_type": "code",
   "execution_count": 4,
   "id": "f5f04521-9c69-42cb-87be-0b778fdd065f",
   "metadata": {},
   "outputs": [
    {
     "data": {
      "text/plain": [
       "177.0"
      ]
     },
     "execution_count": 4,
     "metadata": {},
     "output_type": "execute_result"
    }
   ],
   "source": [
    "np.median(Height_data)"
   ]
  },
  {
   "cell_type": "code",
   "execution_count": 5,
   "id": "80e81792-ab60-4df4-8466-2e224a6ac78a",
   "metadata": {},
   "outputs": [],
   "source": [
    "from scipy import stats"
   ]
  },
  {
   "cell_type": "code",
   "execution_count": 6,
   "id": "2b7ec948-5a1b-435b-9d4d-31ec6a29576f",
   "metadata": {},
   "outputs": [
    {
     "data": {
      "text/plain": [
       "ModeResult(mode=177.0, count=3)"
      ]
     },
     "execution_count": 6,
     "metadata": {},
     "output_type": "execute_result"
    }
   ],
   "source": [
    "stats.mode(Height_data)"
   ]
  },
  {
   "cell_type": "markdown",
   "id": "161a0a8b-4430-447d-baad-d4f08607e2d5",
   "metadata": {},
   "source": [
    "Answer 4:-"
   ]
  },
  {
   "cell_type": "code",
   "execution_count": 7,
   "id": "8186e918-55d7-4961-be8c-88c4e0914dec",
   "metadata": {},
   "outputs": [
    {
     "data": {
      "text/plain": [
       "1.7885814036548633"
      ]
     },
     "execution_count": 7,
     "metadata": {},
     "output_type": "execute_result"
    }
   ],
   "source": [
    "np.std(Height_data)"
   ]
  },
  {
   "cell_type": "markdown",
   "id": "679a99d6-f4a2-468b-a3a1-d0de723da29b",
   "metadata": {},
   "source": [
    "Answer 5:-"
   ]
  },
  {
   "cell_type": "code",
   "execution_count": 8,
   "id": "17bd9c5a-2e67-48a0-a078-b88d03c53779",
   "metadata": {},
   "outputs": [
    {
     "data": {
      "text/plain": [
       "[178,\n",
       " 177,\n",
       " 176,\n",
       " 177,\n",
       " 178.2,\n",
       " 178,\n",
       " 175,\n",
       " 179,\n",
       " 180,\n",
       " 175,\n",
       " 178.9,\n",
       " 176.2,\n",
       " 177,\n",
       " 172.5,\n",
       " 178,\n",
       " 176.5]"
      ]
     },
     "execution_count": 8,
     "metadata": {},
     "output_type": "execute_result"
    }
   ],
   "source": [
    "Height_data"
   ]
  },
  {
   "cell_type": "code",
   "execution_count": 9,
   "id": "ffeef3fb-1ef6-41d2-a541-6f15e520d4cc",
   "metadata": {},
   "outputs": [
    {
     "data": {
      "text/plain": [
       "3.199023437500001"
      ]
     },
     "execution_count": 9,
     "metadata": {},
     "output_type": "execute_result"
    }
   ],
   "source": [
    "np.var(Height_data)"
   ]
  },
  {
   "cell_type": "code",
   "execution_count": 10,
   "id": "229e193a-bf3f-4cdf-91dd-34ba491b9e9b",
   "metadata": {},
   "outputs": [
    {
     "data": {
      "text/plain": [
       "1.7885814036548633"
      ]
     },
     "execution_count": 10,
     "metadata": {},
     "output_type": "execute_result"
    }
   ],
   "source": [
    "np.std(Height_data)"
   ]
  },
  {
   "cell_type": "markdown",
   "id": "565e1714-ba1f-4dd5-9a0c-f53f813dd535",
   "metadata": {},
   "source": [
    "Answer 6:-"
   ]
  },
  {
   "cell_type": "markdown",
   "id": "ebf8a44f-c7c3-4739-a2bb-79209801a784",
   "metadata": {},
   "source": [
    "A Venn diagram is a visual way of showing the relationships between sets of items using overlapping circles or other shapes"
   ]
  },
  {
   "cell_type": "markdown",
   "id": "c163772f-0555-4d3b-a16d-0ea132883fe2",
   "metadata": {},
   "source": [
    "Answer 7:-"
   ]
  },
  {
   "cell_type": "code",
   "execution_count": 11,
   "id": "0aeb5432-479d-4b0f-87c7-25e405c4c13b",
   "metadata": {},
   "outputs": [],
   "source": [
    "A = {2,3,4,5,6,7}\n",
    "B = {0,2,6,8,10}"
   ]
  },
  {
   "cell_type": "code",
   "execution_count": 12,
   "id": "a30938c0-1a18-4f92-997a-ba50d15270b8",
   "metadata": {},
   "outputs": [
    {
     "data": {
      "text/plain": [
       "{2, 6}"
      ]
     },
     "execution_count": 12,
     "metadata": {},
     "output_type": "execute_result"
    }
   ],
   "source": [
    "A.intersection(B)"
   ]
  },
  {
   "cell_type": "code",
   "execution_count": 13,
   "id": "39cec6cc-73de-4355-9ff0-392bc84ade85",
   "metadata": {},
   "outputs": [
    {
     "data": {
      "text/plain": [
       "{0, 2, 3, 4, 5, 6, 7, 8, 10}"
      ]
     },
     "execution_count": 13,
     "metadata": {},
     "output_type": "execute_result"
    }
   ],
   "source": [
    "A.union(B)"
   ]
  },
  {
   "cell_type": "markdown",
   "id": "f1116042-8069-4b72-b811-f7bd81475e57",
   "metadata": {},
   "source": [
    "Answer 8:-"
   ]
  },
  {
   "cell_type": "markdown",
   "id": "fbf11164-0adc-494a-8b8c-856d73526adf",
   "metadata": {},
   "source": [
    "Skewness is a statistical measure that describes the asymmetry of the distribution of values in a dataset. It indicates whether the data points are skewed to the left (negative skew) or the right (positive skew) relative to the mean. Skewness helps understand the underlying distribution of data, which is crucial for decision-making, risk assessment, and predicting future trends."
   ]
  },
  {
   "cell_type": "markdown",
   "id": "eb61fb35-27b9-40ef-9930-06521064c34e",
   "metadata": {},
   "source": [
    "Answer 9:-"
   ]
  },
  {
   "cell_type": "markdown",
   "id": "6d7a3b9e-ead9-4439-b97c-3e712f2fffc8",
   "metadata": {},
   "source": [
    "In case of right skewed, mean will always be to the right of the median."
   ]
  },
  {
   "cell_type": "markdown",
   "id": "6840bd6f-71e5-4b28-bd7c-e92d61592105",
   "metadata": {},
   "source": [
    "Answer 10:-"
   ]
  },
  {
   "cell_type": "markdown",
   "id": "219c9421-b25f-4fd2-8957-4e6e4ee6c8f3",
   "metadata": {},
   "source": [
    "COVARIANCE : Calculates the average of the product of deviations from means. whereas CORRELATION Standardizes covariance by dividing by the product of standard deviations"
   ]
  },
  {
   "cell_type": "markdown",
   "id": "02cadd96-d2cf-4613-a626-9f70d704ce61",
   "metadata": {},
   "source": [
    "Answer 11:-"
   ]
  },
  {
   "cell_type": "markdown",
   "id": "63a494e2-3580-4ac3-9a4d-a2fb1602b578",
   "metadata": {},
   "source": [
    "Formula for sample mean : \n",
    "x̄ = ( Σ xi ) / n"
   ]
  },
  {
   "cell_type": "markdown",
   "id": "49998fb6-cefe-4fcc-b60f-8970575d5fcc",
   "metadata": {},
   "source": [
    "For ex:"
   ]
  },
  {
   "cell_type": "code",
   "execution_count": 19,
   "id": "6d10d0fa-fc99-4758-812f-e76a7c452be2",
   "metadata": {},
   "outputs": [
    {
     "name": "stdout",
     "output_type": "stream",
     "text": [
      "34.2\n"
     ]
    }
   ],
   "source": [
    "sample = [15, 20, 72, 43, 21]\n",
    "\n",
    "S = 15 + 20+ 72 + 43 + 21 \n",
    "\n",
    "n = 5\n",
    "\n",
    "# Using the formula for sample mean, we get\n",
    "\n",
    "x̄ = S/n\n",
    "\n",
    "print(x̄)\n"
   ]
  },
  {
   "cell_type": "markdown",
   "id": "c8cf696d-5a7d-43e7-9060-c739d778db7d",
   "metadata": {},
   "source": [
    "Answer 12 :-"
   ]
  },
  {
   "cell_type": "markdown",
   "id": "3982bc35-4d80-417c-a057-1b5e402831e6",
   "metadata": {},
   "source": [
    "Any normal distribution has a graph that is perfectly symmetric about a vertical line through its peak. Therefore, all measures of central tendency (most commonly, the mean, median, and mode) give the same answer: the \r\n",
    "x\r\n",
    "-value of the peak."
   ]
  },
  {
   "cell_type": "markdown",
   "id": "e573acc4-4787-43d3-8ea5-e2d870b01608",
   "metadata": {},
   "source": [
    "Answer 13:-"
   ]
  },
  {
   "cell_type": "markdown",
   "id": "761672cd-c8a9-43e9-b3ee-fe486906cbb6",
   "metadata": {},
   "source": [
    " Covariance measures how two variables change together, indicating whether they move in the same or opposite directions, whereas \n",
    " Correlation, refines this measure by normalizing covariance, Correlation explains the proportion in which the second variable change."
   ]
  },
  {
   "cell_type": "markdown",
   "id": "8578578f-4ebe-4641-83c2-8b977966d705",
   "metadata": {},
   "source": [
    "Answer 14:-"
   ]
  },
  {
   "cell_type": "markdown",
   "id": "a6eb45cf-eee5-45dc-b0f7-299ca93f771b",
   "metadata": {},
   "source": [
    "Effect of outliers"
   ]
  },
  {
   "cell_type": "code",
   "execution_count": 20,
   "id": "a9ba4762-c2f8-40ca-a458-5da67a722e1b",
   "metadata": {},
   "outputs": [],
   "source": [
    "x1 = [1,2,3,4,5,6,7,8,9]\n",
    "x2 = [1,2,3,4,5,6,7,8,9.400]"
   ]
  },
  {
   "cell_type": "code",
   "execution_count": 21,
   "id": "3459bc50-d3aa-4e0c-a6f6-472a6134edf2",
   "metadata": {},
   "outputs": [],
   "source": [
    "# Here, in x2 400 is an outlier"
   ]
  },
  {
   "cell_type": "code",
   "execution_count": null,
   "id": "0cb9761a-7002-46e8-996d-15e91dd07a08",
   "metadata": {},
   "outputs": [],
   "source": [
    "np.mean"
   ]
  }
 ],
 "metadata": {
  "kernelspec": {
   "display_name": "Python 3 (ipykernel)",
   "language": "python",
   "name": "python3"
  },
  "language_info": {
   "codemirror_mode": {
    "name": "ipython",
    "version": 3
   },
   "file_extension": ".py",
   "mimetype": "text/x-python",
   "name": "python",
   "nbconvert_exporter": "python",
   "pygments_lexer": "ipython3",
   "version": "3.12.4"
  }
 },
 "nbformat": 4,
 "nbformat_minor": 5
}
